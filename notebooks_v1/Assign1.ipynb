{
 "cells": [
  {
   "cell_type": "code",
   "execution_count": 69,
   "id": "7017ae66-4292-4719-8fdf-23b5260ef5b3",
   "metadata": {},
   "outputs": [],
   "source": [
    "import numpy as np\n",
    "import pandas as pd"
   ]
  },
  {
   "cell_type": "code",
   "execution_count": 54,
   "id": "f71fe26c-d2ff-472b-80c6-efb752decc79",
   "metadata": {},
   "outputs": [
    {
     "name": "stdout",
     "output_type": "stream",
     "text": [
      "Using matplotlib backend: TkAgg\n"
     ]
    }
   ],
   "source": [
    "%matplotlib"
   ]
  },
  {
   "cell_type": "code",
   "execution_count": 55,
   "id": "f28890a9-b909-4f4b-a051-868386d53cda",
   "metadata": {},
   "outputs": [],
   "source": [
    "import matplotlib.pyplot as plt\n",
    "import seaborn; seaborn.set()"
   ]
  },
  {
   "cell_type": "code",
   "execution_count": 56,
   "id": "0fcf5ddb-f116-42be-93cc-dfe4ba27b72f",
   "metadata": {},
   "outputs": [
    {
     "data": {
      "text/plain": [
       "<matplotlib.collections.PathCollection at 0x1da5d0bbd30>"
      ]
     },
     "execution_count": 56,
     "metadata": {},
     "output_type": "execute_result"
    }
   ],
   "source": [
    "rand=np.random.RandomState(42)\n",
    "X=rand.rand(20,2)\n",
    "plt.scatter(X[:,0],X[:,1], s=100)"
   ]
  },
  {
   "cell_type": "code",
   "execution_count": 57,
   "id": "f124432c-cdd6-45c6-93f7-092e9ea92487",
   "metadata": {},
   "outputs": [],
   "source": [
    "dist_sq=np.sum((X[:,np.newaxis,:]-X[np.newaxis,:,:])**2,axis=-1)"
   ]
  },
  {
   "cell_type": "code",
   "execution_count": 58,
   "id": "a74d8acb-4163-4837-b7cb-5cf4faaabf55",
   "metadata": {},
   "outputs": [
    {
     "data": {
      "text/plain": [
       "(20, 20, 2)"
      ]
     },
     "execution_count": 58,
     "metadata": {},
     "output_type": "execute_result"
    }
   ],
   "source": [
    "differences=X[:, np.newaxis, :]-X[np.newaxis, :, :]\n",
    "differences.shape"
   ]
  },
  {
   "cell_type": "code",
   "execution_count": 59,
   "id": "d4b4fbb9-89a1-4e0c-9cce-5743261abbb9",
   "metadata": {},
   "outputs": [
    {
     "data": {
      "text/plain": [
       "(20, 20, 2)"
      ]
     },
     "execution_count": 59,
     "metadata": {},
     "output_type": "execute_result"
    }
   ],
   "source": [
    "sq_differences=differences**2\n",
    "sq_differences.shape"
   ]
  },
  {
   "cell_type": "code",
   "execution_count": 60,
   "id": "ac7cae37-317d-4d93-9a36-41c393fc1ac9",
   "metadata": {},
   "outputs": [
    {
     "data": {
      "text/plain": [
       "(20, 20)"
      ]
     },
     "execution_count": 60,
     "metadata": {},
     "output_type": "execute_result"
    }
   ],
   "source": [
    "dist_sq=sq_differences.sum(-1)\n",
    "dist_sq.shape"
   ]
  },
  {
   "cell_type": "code",
   "execution_count": 61,
   "id": "0c905e2d-20d0-43ca-9088-936e5279fc6c",
   "metadata": {},
   "outputs": [
    {
     "data": {
      "text/plain": [
       "array([0., 0., 0., 0., 0., 0., 0., 0., 0., 0., 0., 0., 0., 0., 0., 0., 0.,\n",
       "       0., 0., 0.])"
      ]
     },
     "execution_count": 61,
     "metadata": {},
     "output_type": "execute_result"
    }
   ],
   "source": [
    "dist_sq.diagonal()"
   ]
  },
  {
   "cell_type": "code",
   "execution_count": 62,
   "id": "7f7ee9ca-6aeb-4058-abfc-887f310cadba",
   "metadata": {},
   "outputs": [
    {
     "data": {
      "text/plain": [
       "array([[ 0, 12, 16,  3,  4,  5,  8, 13,  1, 11, 19, 17,  9,  7, 15,  2,\n",
       "        10, 18,  6, 14],\n",
       "       [ 1, 19,  4, 17, 12,  6,  9,  8, 15, 10, 11,  0, 13, 14, 18,  7,\n",
       "         3,  2, 16,  5],\n",
       "       [ 2,  7, 18, 11,  9, 13,  8, 14, 15, 10, 19,  6, 12,  4,  3,  1,\n",
       "        16,  0,  5, 17],\n",
       "       [ 3, 16,  5,  0, 13, 12,  8, 11,  4,  9,  7,  2,  1, 19, 18, 15,\n",
       "        17, 10, 14,  6],\n",
       "       [ 4, 12,  1, 19,  0,  8, 17, 13,  9, 11, 15,  6,  3, 10, 16,  5,\n",
       "        14,  7, 18,  2],\n",
       "       [ 5, 16,  3,  0, 12, 13,  8,  4, 11,  9,  1,  7,  2, 19, 18, 17,\n",
       "        15, 10, 14,  6],\n",
       "       [ 6, 15, 10, 19, 14,  1,  9, 18,  4, 11, 17,  8,  7,  2, 12, 13,\n",
       "         0,  3, 16,  5],\n",
       "       [ 7,  2, 18, 11,  9, 13,  8, 15, 10, 14, 19,  6, 12,  4,  1,  3,\n",
       "        16,  0,  5, 17],\n",
       "       [ 8, 13, 11,  9, 12,  4,  7, 19,  2,  3, 18,  0,  1, 15, 16, 10,\n",
       "         5, 14,  6, 17],\n",
       "       [ 9, 11, 15, 18, 10,  8,  7, 14, 19,  2, 13,  6,  1,  4, 12,  0,\n",
       "         3, 17, 16,  5],\n",
       "       [10, 15, 14,  6,  9, 19, 18, 11,  7,  2,  1,  8, 13,  4, 12, 17,\n",
       "         0,  3, 16,  5],\n",
       "       [11,  9,  8, 13,  7,  2, 18, 15, 10, 19, 14, 12,  4,  1,  3,  6,\n",
       "         0, 16,  5, 17],\n",
       "       [12,  4,  0,  8,  1, 13,  3, 19, 16, 11,  5,  9, 17, 15,  7, 10,\n",
       "         6,  2, 18, 14],\n",
       "       [13,  8, 11,  9,  7,  2, 12,  3, 18,  4, 16,  0,  5, 19, 15,  1,\n",
       "        10, 14,  6, 17],\n",
       "       [14, 10, 15,  6, 18,  9, 19,  7, 11,  2,  8,  1, 13,  4, 12, 17,\n",
       "         0,  3, 16,  5],\n",
       "       [15, 10, 14,  9,  6, 19, 18, 11,  7,  1,  2,  8, 13,  4, 12, 17,\n",
       "         0,  3, 16,  5],\n",
       "       [16,  5,  3,  0, 12, 13,  8,  4, 11,  9,  1,  7,  2, 19, 18, 17,\n",
       "        15, 10, 14,  6],\n",
       "       [17,  1,  4, 19, 12,  0,  6,  8, 15,  9, 10, 11, 13, 14,  3, 16,\n",
       "         5, 18,  7,  2],\n",
       "       [18,  7,  2,  9, 11, 14, 10, 15,  8, 13, 19,  6,  1,  4, 12,  3,\n",
       "         0, 16,  5, 17],\n",
       "       [19,  1,  6, 15,  4,  9, 10,  8, 11, 14, 12, 17, 13, 18,  7,  0,\n",
       "         2,  3, 16,  5]], dtype=int64)"
      ]
     },
     "execution_count": 62,
     "metadata": {},
     "output_type": "execute_result"
    }
   ],
   "source": [
    "nearest=np.argsort(dist_sq,axis=1)\n",
    "nearest"
   ]
  },
  {
   "cell_type": "code",
   "execution_count": 63,
   "id": "44ec191b-136d-44c3-9033-1015a894d0fd",
   "metadata": {},
   "outputs": [],
   "source": [
    "K=2\n",
    "nearest_partition=np.argpartition(dist_sq,K+1,axis=1)"
   ]
  },
  {
   "cell_type": "code",
   "execution_count": 64,
   "id": "207947ec-e462-424c-821c-75c00a3ab5e5",
   "metadata": {},
   "outputs": [],
   "source": [
    "group_colors = np.random.rand(X.shape[0])\n",
    "colors = group_colors[nearest_partition[:, 0]]\n"
   ]
  },
  {
   "cell_type": "code",
   "execution_count": 65,
   "id": "b5f86bad-2699-492c-b7b4-95dae8f777c2",
   "metadata": {},
   "outputs": [],
   "source": [
    "fig = plt.figure()\n",
    "ax = fig.add_subplot(111, projection='3d')\n",
    "\n",
    "#ax.scatter(X[:, 0], X[:, 1],  s=50, c=colors)"
   ]
  },
  {
   "cell_type": "code",
   "execution_count": 66,
   "id": "c821e810-afa7-474d-8a7d-e3fefb303874",
   "metadata": {},
   "outputs": [
    {
     "ename": "IndexError",
     "evalue": "index 2 is out of bounds for axis 1 with size 2",
     "output_type": "error",
     "traceback": [
      "\u001b[1;31m---------------------------------------------------------------------------\u001b[0m",
      "\u001b[1;31mIndexError\u001b[0m                                Traceback (most recent call last)",
      "Cell \u001b[1;32mIn[66], line 1\u001b[0m\n\u001b[1;32m----> 1\u001b[0m plt\u001b[38;5;241m.\u001b[39mscatter(X[:, \u001b[38;5;241m0\u001b[39m], X[:, \u001b[38;5;241m1\u001b[39m], \u001b[43mX\u001b[49m\u001b[43m[\u001b[49m\u001b[43m:\u001b[49m\u001b[43m,\u001b[49m\u001b[38;5;241;43m2\u001b[39;49m\u001b[43m]\u001b[49m, c\u001b[38;5;241m=\u001b[39mcolors, cmap\u001b[38;5;241m=\u001b[39m\u001b[38;5;124m'\u001b[39m\u001b[38;5;124mviridis\u001b[39m\u001b[38;5;124m'\u001b[39m, s\u001b[38;5;241m=\u001b[39m\u001b[38;5;241m100\u001b[39m)\n\u001b[0;32m      2\u001b[0m K\u001b[38;5;241m=\u001b[39m\u001b[38;5;241m2\u001b[39m\n\u001b[0;32m      3\u001b[0m \u001b[38;5;28;01mfor\u001b[39;00m i \u001b[38;5;129;01min\u001b[39;00m \u001b[38;5;28mrange\u001b[39m(X\u001b[38;5;241m.\u001b[39mshape[\u001b[38;5;241m0\u001b[39m]):\n",
      "\u001b[1;31mIndexError\u001b[0m: index 2 is out of bounds for axis 1 with size 2"
     ]
    }
   ],
   "source": [
    "plt.scatter(X[:, 0], X[:, 1], X[:,2], c=colors, cmap='viridis', s=100)\n",
    "K=2\n",
    "for i in range(X.shape[0]):\n",
    "    for j in nearest_partition[i,:K+1]:\n",
    "        plt.plot(*zip(X[j],X[i]), color='black')"
   ]
  },
  {
   "cell_type": "code",
   "execution_count": 71,
   "id": "0e1fa93e-1609-4b15-8bcd-5fb3764f5b26",
   "metadata": {},
   "outputs": [],
   "source": [
    "rand = np.random.RandomState(42)\n",
    "X = rand.rand(20, 3)  # 3D 좌표로 변경\n",
    "\n",
    "dist_sq = np.sum((X[:, np.newaxis, :] - X[np.newaxis, :, :]) ** 2, axis=-1)\n",
    "nearest = np.argsort(dist_sq, axis=1)\n",
    "K = 2\n",
    "nearest_partition = np.argpartition(dist_sq, K + 1, axis=1)\n",
    "\n",
    "group_colors = np.random.rand(X.shape[0])\n",
    "colors = group_colors[nearest_partition[:, 0]]\n",
    "\n",
    "fig = plt.figure()\n",
    "ax = fig.add_subplot(111, projection='3d')\n",
    "\n",
    "ax.scatter(X[:, 0], X[:, 1], X[:, 2], s=100, c=colors)\n",
    "\n",
    "for i in range(X.shape[0]):\n",
    "    for j in nearest_partition[i, :K + 1]:\n",
    "        ax.plot([X[j, 0], X[i, 0]], [X[j, 1], X[i, 1]], [X[j, 2], X[i, 2]], color='black')\n",
    "\n",
    "plt.show()\n"
   ]
  },
  {
   "cell_type": "code",
   "execution_count": null,
   "id": "70531dca-6580-4032-a9ef-906a68ffd33f",
   "metadata": {},
   "outputs": [],
   "source": []
  }
 ],
 "metadata": {
  "kernelspec": {
   "display_name": "Python 3 (ipykernel)",
   "language": "python",
   "name": "python3"
  },
  "language_info": {
   "codemirror_mode": {
    "name": "ipython",
    "version": 3
   },
   "file_extension": ".py",
   "mimetype": "text/x-python",
   "name": "python",
   "nbconvert_exporter": "python",
   "pygments_lexer": "ipython3",
   "version": "3.9.13"
  }
 },
 "nbformat": 4,
 "nbformat_minor": 5
}
