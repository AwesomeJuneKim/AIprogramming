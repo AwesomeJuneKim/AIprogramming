{
 "cells": [
  {
   "cell_type": "code",
   "execution_count": 1,
   "metadata": {},
   "outputs": [],
   "source": [
    "from sklearn.model_selection import cross_val_score\n",
    "from sklearn.datasets import load_iris\n",
    "from sklearn.linear_model import LogisticRegression"
   ]
  },
  {
   "cell_type": "code",
   "execution_count": 2,
   "metadata": {},
   "outputs": [],
   "source": [
    "iris = load_iris()\n",
    "logreg = LogisticRegression(max_iter=1000)"
   ]
  },
  {
   "cell_type": "code",
   "execution_count": 4,
   "metadata": {},
   "outputs": [
    {
     "data": {
      "text/plain": [
       "0.9733333333333334"
      ]
     },
     "execution_count": 4,
     "metadata": {},
     "output_type": "execute_result"
    }
   ],
   "source": [
    "#cv값이 설정되어 있지 않으면 sklearn에서 정해진대로 반복한다.(지금은 3에서 5로 바뀜)\n",
    "scores = cross_val_score(logreg, iris.data, iris.target)\n",
    "scores.mean()"
   ]
  },
  {
   "cell_type": "code",
   "execution_count": 5,
   "metadata": {},
   "outputs": [
    {
     "data": {
      "text/plain": [
       "0.9660714285714287"
      ]
     },
     "execution_count": 5,
     "metadata": {},
     "output_type": "execute_result"
    }
   ],
   "source": [
    "#cv값이 증가한다고 정확도가 올라가지는 않음->과적합될 가능성이 있다.\n",
    "scores = cross_val_score(logreg, iris.data, iris.target, cv=20)\n",
    "scores.mean()"
   ]
  },
  {
   "cell_type": "markdown",
   "metadata": {},
   "source": [
    "사용하는 알고리즘 안에 포함되어 있는 메서드를 써야지 원하는 값을 찾을 수 있다.\n",
    "cross_val_score에 score메서드가 있기 때문에 score값을 찾을 수 있다.\n",
    "알고리즘마다 사용하는 메서드의 이름이 다를 수 있기 때문에 (sklearn+알고리즘)구글링해봐야 한다."
   ]
  },
  {
   "cell_type": "markdown",
   "metadata": {},
   "source": [
    "교차검증은 훈련시키지 않고 바로 사용할 수 있다->데이터가 정리되어 있어야 한다 (test&train데이터)"
   ]
  }
 ],
 "metadata": {
  "kernelspec": {
   "display_name": "Python 3",
   "language": "python",
   "name": "python3"
  },
  "language_info": {
   "codemirror_mode": {
    "name": "ipython",
    "version": 3
   },
   "file_extension": ".py",
   "mimetype": "text/x-python",
   "name": "python",
   "nbconvert_exporter": "python",
   "pygments_lexer": "ipython3",
   "version": "3.9.13"
  }
 },
 "nbformat": 4,
 "nbformat_minor": 2
}
